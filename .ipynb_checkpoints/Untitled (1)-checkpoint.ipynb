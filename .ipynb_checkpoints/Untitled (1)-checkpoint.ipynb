{
 "cells": [
  {
   "cell_type": "markdown",
   "metadata": {},
   "source": [
    "# Answer for Q2,3,4,5,6 are under the function defining."
   ]
  },
  {
   "cell_type": "code",
   "execution_count": 1,
   "metadata": {},
   "outputs": [],
   "source": [
    "\"\"\"EECS 445 - Fall 2021.\n",
    "\n",
    "Project 1\n",
    "\"\"\"\n",
    "\n",
    "import pandas as pd\n",
    "import numpy as np\n",
    "import itertools\n",
    "import string\n",
    "\n",
    "from sklearn.svm import SVC, LinearSVC\n",
    "from sklearn.model_selection import StratifiedKFold\n",
    "from sklearn import metrics\n",
    "from matplotlib import pyplot as plt\n",
    "\n",
    "from helper import *\n",
    "\n",
    "import warnings\n",
    "from sklearn.exceptions import ConvergenceWarning\n",
    "\n",
    "warnings.simplefilter(action=\"ignore\", category=FutureWarning)\n",
    "warnings.simplefilter(action=\"ignore\", category=ConvergenceWarning)\n",
    "\n",
    "np.random.seed(445)\n",
    "\n",
    "\n",
    "\n",
    "def extract_word(input_string):\n",
    "    \"\"\"Preprocess review into list of tokens.\n",
    "\n",
    "    Lowercase, replace punctuation with spaces, and split along whitespace.\n",
    "    Return the resulting array.\n",
    "\n",
    "    E.g.\n",
    "    > extract_word(\"I love EECS 445. It's my favorite course!\")\n",
    "    > [\"i\", \"love\", \"eecs\", \"445\", \"it\", \"s\", \"my\", \"favorite\", \"course\"]\n",
    "\n",
    "    Input:\n",
    "        input_string: text for a single review\n",
    "    Returns:\n",
    "        a list of words, extracted and preprocessed according to the directions\n",
    "        above.\n",
    "    \"\"\"\n",
    "    # TODO: Implement this function\n",
    "    tempStr = input_string\n",
    "    for c in string.punctuation:\n",
    "        tempStr = tempStr.replace(c,' ')\n",
    "    tempStr = tempStr.lower().split()\n",
    "    return tempStr\n",
    "\n",
    "\n",
    "\n"
   ]
  },
  {
   "cell_type": "code",
   "execution_count": 2,
   "metadata": {},
   "outputs": [],
   "source": [
    "def extract_dictionary(df):\n",
    "    \"\"\"Map words to index.\n",
    "\n",
    "    Reads a pandas dataframe, and returns a dictionary of distinct words\n",
    "    mapping from each distinct word to its index (ordered by when it was\n",
    "    found).\n",
    "\n",
    "    E.g., with input:\n",
    "        | text                          | label | ... |\n",
    "        | It was the best of times.     |  1    | ... |\n",
    "        | It was the blurst of times.   | -1    | ... |\n",
    "\n",
    "    The output should be a dictionary of indices ordered by first occurence in\n",
    "    the entire dataset:\n",
    "        {\n",
    "           it: 0,\n",
    "           was: 1,\n",
    "           the: 2,\n",
    "           best: 3,\n",
    "           of: 4,\n",
    "           times: 5,\n",
    "           blurst: 6\n",
    "        }\n",
    "    The index should be autoincrementing, starting at 0.\n",
    "\n",
    "    Input:\n",
    "        df: dataframe/output of load_data()\n",
    "    Returns:\n",
    "        a dictionary mapping words to an index\n",
    "    \"\"\"\n",
    "    word_dict = {}\n",
    "    cnt = 0\n",
    "    for sentence in df['text']:\n",
    "        wordList = extract_word(sentence)\n",
    "        for word in wordList:\n",
    "            if word not in word_dict:\n",
    "                word_dict[word] = cnt\n",
    "                cnt += 1\n",
    "    print(\"d = \", cnt)\n",
    "    return word_dict"
   ]
  },
  {
   "cell_type": "code",
   "execution_count": 5,
   "metadata": {},
   "outputs": [],
   "source": [
    "def generate_feature_matrix(df, word_dict):\n",
    "    \"\"\"Create matrix of feature vectors for dataset.\n",
    "\n",
    "    Reads a dataframe and the dictionary of unique words to generate a matrix\n",
    "    of {1, 0} feature vectors for each review.  Use the word_dict to find the\n",
    "    correct index to set to 1 for each place in the feature vector. The\n",
    "    resulting feature matrix should be of dimension (# of reviews, # of words\n",
    "    in dictionary).\n",
    "\n",
    "    Input:\n",
    "        df: dataframe that has the ratings and labels\n",
    "        word_dict: dictionary of words mapping to indices\n",
    "    Returns:\n",
    "        a numpy matrix of dimension (# of reviews, # of words in dictionary)\n",
    "    \"\"\"\n",
    "    number_of_reviews = df.shape[0]\n",
    "    number_of_words = len(word_dict)\n",
    "    feature_matrix = np.zeros((number_of_reviews, number_of_words))\n",
    "    # TODO: Implement this function\n",
    "    for i in range(number_of_reviews):\n",
    "        words = extract_word(df['text'][i])\n",
    "        for word, index in word_dict.items():\n",
    "            if word in words:\n",
    "                feature_matrix[i,word_dict[word]] = 1\n",
    "    print(\"mean is \", np.mean(np.sum(feature_matrix,axis = 1)))\n",
    "    wordIndex = np.argmax(np.sum(feature_matrix,axis = 0))\n",
    "    for key, value in word_dict.items():\n",
    "        if value == wordIndex:\n",
    "            print(\"Appear most word is \", key)\n",
    "    return feature_matrix"
   ]
  },
  {
   "cell_type": "code",
   "execution_count": 6,
   "metadata": {},
   "outputs": [],
   "source": [
    "def performance(y_true, Y_pred, metric=\"accuracy\"):\n",
    "    \"\"\"Calculate performance metrics.\n",
    "\n",
    "    Performance metrics are evaluated on the true labels y_true versus the\n",
    "    predicted labels Y_pred.\n",
    "\n",
    "    Input:\n",
    "        y_true: (n,) array containing known labels\n",
    "        Y_pred: (n,) array containing predicted scores\n",
    "        metric: string specifying the performance metric (default='accuracy'\n",
    "                 other options: 'f1-score', 'auroc', 'precision', 'sensitivity',\n",
    "                 and 'specificity')\n",
    "    Returns:\n",
    "        the performance as an np.float64\n",
    "    \"\"\"\n",
    "    if metric == \"auroc\":\n",
    "        return metrics.roc_auc_score(y_true, Y_pred)\n",
    "    mat = metrics.confusion_matrix(y_true, Y_pred, labels = [1, -1])\n",
    "    TP = mat[0][0]\n",
    "    FP = mat[1][0]\n",
    "    TN = mat[1][1]\n",
    "    FN = mat[0][1]\n",
    "    recall = 0\n",
    "    precision = 0\n",
    "    specificity = 0\n",
    "    if(TP == 0):\n",
    "        if(FP == 0):\n",
    "            precision = 0\n",
    "        if(FN == 0):\n",
    "            recall = 0\n",
    "    else:\n",
    "        precision = TP/(TP+FP)\n",
    "        recall = TP/(TP+FN)\n",
    "    if (TN+FP) == 0:\n",
    "        specificity = 0\n",
    "    else:\n",
    "        specificity = TN/(TN+FP)\n",
    "        \n",
    "    if metric == \"accuracy\":\n",
    "        return (TP + TN)/(TP + FP + TN + FN)\n",
    "    elif metric == 'f1-score':\n",
    "        if precision + recall == 0:\n",
    "            return 0\n",
    "        else:\n",
    "            return 2 * (precision * recall) / (precision + recall)\n",
    "    elif metric == 'precision':\n",
    "        return precision\n",
    "    elif metric == 'sensitivity':#TPR\n",
    "        return recall\n",
    "    elif metric == 'specificity':#TNR\n",
    "        return specificity\n",
    "        \n",
    "    # TODO: Implement this function\n",
    "    # This is an optional but very useful function to implement.\n",
    "    # See the sklearn.metrics documentation for pointers on how to implement\n",
    "    # the requested metrics.\n"
   ]
  },
  {
   "cell_type": "code",
   "execution_count": 7,
   "metadata": {},
   "outputs": [],
   "source": [
    "def cv_performance(clf, X, y, k=5, metric=\"accuracy\"):\n",
    "    \"\"\"Split data into k folds and run cross-validation.\n",
    "\n",
    "    Splits the data X and the labels y into k-folds and runs k-fold\n",
    "    cross-validation: for each fold i in 1...k, trains a classifier on\n",
    "    all the data except the ith fold, and tests on the ith fold.\n",
    "    Calculates and returns the k-fold cross-validation performance metric for\n",
    "    classifier clf by averaging the performance across folds.\n",
    "    Input:\n",
    "        clf: an instance of SVC()\n",
    "        X: (n,d) array of feature vectors, where n is the number of examples\n",
    "           and d is the number of features\n",
    "        y: (n,) array of binary labels {1,-1}\n",
    "        k: an int specifying the number of folds (default=5)\n",
    "        metric: string specifying the performance metric (default='accuracy'\n",
    "             other options: 'f1-score', 'auroc', 'precision', 'sensitivity',\n",
    "             and 'specificity')\n",
    "    Returns:\n",
    "        average 'test' performance across the k folds as np.float64\n",
    "    \"\"\"\n",
    "    # TODO: Implement this function\n",
    "    scores = []\n",
    "\n",
    "    # HINT: You may find the StratifiedKFold from sklearn.model_selection\n",
    "    # to be useful\n",
    "    skf = StratifiedKFold(k,False, None)\n",
    "    for train_index, test_index in skf.split(X, y):\n",
    "        X_train, X_test = X[train_index], X[test_index]\n",
    "        y_train, y_test = y[train_index], y[test_index]\n",
    "        clf.fit(X_train, y_train)\n",
    "        if(metric == 'auroc'):\n",
    "            y_pred = clf.decision_function(X_test)\n",
    "        else:\n",
    "            y_pred = clf.predict(X_test)\n",
    "        scores.append(performance(y_test, y_pred, metric))\n",
    "    return np.array(scores).mean()"
   ]
  },
  {
   "cell_type": "code",
   "execution_count": 26,
   "metadata": {},
   "outputs": [],
   "source": [
    "def select_param_linear(\n",
    "    X, y, k=5, metric=\"accuracy\", C_range=[], loss=\"hinge\", penalty=\"l2\", dual=True\n",
    "):\n",
    "    \"\"\"Search for hyperparameters of linear SVM with best k-fold CV performance.\n",
    "\n",
    "    Sweeps different settings for the hyperparameter of a linear-kernel SVM,\n",
    "    calculating the k-fold CV performance for each setting on X, y.\n",
    "    Input:\n",
    "        X: (n,d) array of feature vectors, where n is the number of examples\n",
    "        and d is the number of features\n",
    "        y: (n,) array of binary labels {1,-1}\n",
    "        k: int specifying the number of folds (default=5)\n",
    "        metric: string specifying the performance metric (default='accuracy',\n",
    "             other options: 'f1-score', 'auroc', 'precision', 'sensitivity',\n",
    "             and 'specificity')\n",
    "        C_range: an array with C values to be searched over\n",
    "        loss: string specifying the loss function used (default=\"hinge\",\n",
    "             other option of \"squared_hinge\")\n",
    "        penalty: string specifying the penalty type used (default=\"l2\",\n",
    "             other option of \"l1\")\n",
    "        dual: boolean specifying whether to use the dual formulation of the\n",
    "             linear SVM (set True for penalty \"l2\" and False for penalty \"l1\"ß)\n",
    "    Returns:\n",
    "        the parameter value for a linear-kernel SVM that maximizes the\n",
    "        average 5-fold CV performance.\n",
    "    \"\"\"\n",
    "    # TODO: Implement this function\n",
    "    # HINT: You should be using your cv_performance function here\n",
    "    # to evaluate the performance of each SVM\n",
    "    cBest = 0\n",
    "    sBest = 0\n",
    "    for c in C_range:\n",
    "        linearClf = LinearSVC(penalty = penalty, loss = loss, dual = dual, C = c, random_state = 445)\n",
    "        score = cv_performance(linearClf, X, y, k, metric)\n",
    "        print(score, \"for C = \", c)\n",
    "        if  score > sBest:\n",
    "            sBest = score\n",
    "            cBest = c\n",
    "    return cBest"
   ]
  },
  {
   "cell_type": "code",
   "execution_count": 29,
   "metadata": {},
   "outputs": [],
   "source": [
    "def plot_weight(X, y, penalty, C_range, loss, dual):\n",
    "    \"\"\"Create a plot of the L0 norm learned by a classifier for each C in C_range.\n",
    "\n",
    "    Input:\n",
    "        X: (n,d) array of feature vectors, where n is the number of examples\n",
    "        and d is the number of features\n",
    "        y: (n,) array of binary labels {1,-1}\n",
    "        penalty: penalty to be forwarded to the LinearSVC constructor\n",
    "        C_range: list of C values to train a classifier on\n",
    "        loss: loss function to be forwarded to the LinearSVC constructor\n",
    "        dual: whether to solve the dual or primal optimization problem, to be\n",
    "            forwarded to the LinearSVC constructor\n",
    "    Returns: None\n",
    "        Saves a plot of the L0 norms to the filesystem.\n",
    "    \"\"\"\n",
    "    norm0 = []\n",
    "    # TODO: Implement this part of the function\n",
    "    # Here, for each value of c in C_range, you should\n",
    "    # append to norm0 the L0-norm of the theta vector that is learned\n",
    "    # when fitting an L2- or L1-penalty, degree=1 SVM to the data (X, y)\n",
    "    for c in C_range:\n",
    "        linearClf = LinearSVC(penalty = penalty, loss = loss, dual = dual, C = c, random_state = 445)\n",
    "        linearClf.fit(X, y)\n",
    "        norm0.append(np.sum(linearClf.coef_[0]!=0))\n",
    "        #print(np.sum(linearClf.coef_[0]==0))\n",
    "    #print(C_range, norm0)\n",
    "    plt.plot(C_range, norm0)\n",
    "    plt.xscale(\"log\")\n",
    "    plt.legend([\"L0-norm\"])\n",
    "    plt.xlabel(\"Value of C\")\n",
    "    plt.ylabel(\"Norm of theta\")\n",
    "    plt.title(\"Norm-\" + penalty + \"_penalty.png\")\n",
    "    plt.savefig(\"Norm-\" + penalty + \"_penalty.png\")\n",
    "    #plt.show()\n",
    "    plt.close()"
   ]
  },
  {
   "cell_type": "code",
   "execution_count": 10,
   "metadata": {},
   "outputs": [],
   "source": [
    "def plot_word(X, y, penalty, C, loss, dual, dictionary_binary):\n",
    "    \"\"\"Create a plot of the L0 norm learned by a classifier for each C in C_range.\n",
    "\n",
    "    Input:\n",
    "        X: (n,d) array of feature vectors, where n is the number of examples\n",
    "        and d is the number of features\n",
    "        y: (n,) array of binary labels {1,-1}\n",
    "        penalty: penalty to be forwarded to the LinearSVC constructor\n",
    "        C_range: list of C values to train a classifier on\n",
    "        loss: loss function to be forwarded to the LinearSVC constructor\n",
    "        dual: whether to solve the dual or primal optimization problem, to be\n",
    "            forwarded to the LinearSVC constructor\n",
    "    Returns: None\n",
    "        Saves a plot of the L0 norms to the filesystem.\n",
    "    \"\"\"\n",
    "    left = [0,1,2,3,4,5,6,7,8,9]\n",
    "    # TODO: Implement this part of the function\n",
    "    # Here, for each value of c in C_range, you should\n",
    "    # append to norm0 the L0-norm of the theta vector that is learned\n",
    "    # when fitting an L2- or L1-penalty, degree=1 SVM to the data (X, y)\n",
    "    linearClf = LinearSVC(penalty = penalty, loss = loss, dual = dual, C = C, random_state = 445)\n",
    "    linearClf.fit(X, y)\n",
    "    coef = linearClf.coef_[0]\n",
    "    small_5 = np.argsort(coef)[0:5]\n",
    "    big_5 = np.argsort(coef)[-5:]\n",
    "    print(small_5)\n",
    "    y_= list(coef[small_5])\n",
    "    words = []\n",
    "    for i in coef[big_5]:\n",
    "        y_.append(i)\n",
    "    for i in small_5:\n",
    "        words.append(list(dictionary_binary.keys())[i])\n",
    "    for i in big_5:\n",
    "        words.append(list(dictionary_binary.keys())[i])\n",
    "\n",
    "    print(words)\n",
    "    print(y_)\n",
    "    plt.figure(figsize = (16,3))\n",
    "\n",
    "    plt.bar(x = left,height = y_,width = 0.5,align = \"center\", tick_label=words)\n",
    "    \n",
    "    #plt.xscale(\"log\")\n",
    "    #plt.legend([\"L0-norm\"])\n",
    "    plt.xlabel(\"Word\")\n",
    "    plt.xticks(fontsize = 12)\n",
    "    plt.ylabel(\"Coefficient\")\n",
    "    plt.title(\"C_0.1_Coef_Word.png\")\n",
    "    plt.savefig(\"C_0.1_Coef_Word.png\")\n",
    "    plt.close()"
   ]
  },
  {
   "cell_type": "code",
   "execution_count": 43,
   "metadata": {},
   "outputs": [],
   "source": [
    "def select_param_quadratic(X, y, k=5, metric=\"accuracy\", param_range=[]):\n",
    "    \"\"\"Search for hyperparameters of quadratic SVM with best k-fold CV performance.\n",
    "\n",
    "    Sweeps different settings for the hyperparameters of an quadratic-kernel SVM,\n",
    "    calculating the k-fold CV performance for each setting on X, y.\n",
    "    Input:\n",
    "        X: (n,d) array of feature vectors, where n is the number of examples\n",
    "           and d is the number of features\n",
    "        y: (n,) array of binary labels {1,-1}\n",
    "        k: an int specifying the number of folds (default=5)\n",
    "        metric: string specifying the performance metric (default='accuracy'\n",
    "                 other options: 'f1-score', 'auroc', 'precision', 'sensitivity',\n",
    "                 and 'specificity')\n",
    "        param_range: a (num_param, 2)-sized array containing the\n",
    "            parameter values to search over. The first column should\n",
    "            represent the values for C, and the second column should\n",
    "            represent the values for r. Each row of this array thus\n",
    "            represents a pair of parameters to be tried together.\n",
    "    Returns:\n",
    "        The parameter values for a quadratic-kernel SVM that maximize\n",
    "        the average 5-fold CV performance as a pair (C,r)\n",
    "    \"\"\"\n",
    "    # TODO: Implement this function\n",
    "    # Hint: This will be very similar to select_param_linear, except\n",
    "    # the type of SVM model you are using will be different...\n",
    "    best_C_val, best_r_val = 0.0, 0.0\n",
    "    sBest = 0\n",
    "   # print(param_range.shape[0])\n",
    "    for i in range(param_range.shape[0]):\n",
    "        c = param_range[i][0]\n",
    "        r = param_range[i][1]\n",
    "        clf = SVC(kernel='poly', degree=2, C=c, coef0=r, gamma='auto', random_state = 445)\n",
    "        score = cv_performance(clf, X, y, k, metric)\n",
    "        #print(score, \"for C = \", c, \"r = \", r)\n",
    "        if  score > sBest:\n",
    "            sBest = score\n",
    "            cBest = c\n",
    "            rBest = r\n",
    "    return cBest, rBest"
   ]
  },
  {
   "cell_type": "code",
   "execution_count": 12,
   "metadata": {},
   "outputs": [],
   "source": [
    "def process_line(input_string):\n",
    "    wnl = WordNetLemmatizer()\n",
    "    tempStr = input_string\n",
    "    for c in string.punctuation:\n",
    "        tempStr = tempStr.replace(c,' ')\n",
    "    tempStr = tempStr.lower().split()\n",
    "    for i in range(len(tempStr)): \n",
    "        tempStr[i] = wnl.lemmatize(tempStr[i])\n",
    "    return \" \".join(tempStr)\n",
    "\n",
    "\n",
    "def get_multiclass_training_data_challenge(class_size=750):\n",
    "    \"\"\"\n",
    "    Reads in the data from data/dataset.csv and returns it using\n",
    "    extract_dictionary and generate_feature_matrix as a tuple\n",
    "    (X_train, Y_train) where the labels are multiclass as follows\n",
    "        -1: poor\n",
    "         0: average\n",
    "         1: good\n",
    "    Also returns the dictionary used to create X_train.\n",
    "    Input:\n",
    "        class_size: Size of each class (pos/neg/neu) of training dataset.\n",
    "    \"\"\"\n",
    "    stpwrdlst = []\n",
    "    obj = open(\"stop.txt\")\n",
    "    for i in obj:\n",
    "        i = i.replace('\\n','')\n",
    "        stpwrdlst.append(i)\n",
    "    fname = \"data/dataset.csv\"\n",
    "    dataframe = load_data(fname)\n",
    "    neutralDF = dataframe[dataframe[\"label\"] == 0].copy()\n",
    "    positiveDF = dataframe[dataframe[\"label\"] == 1].copy()\n",
    "    negativeDF = dataframe[dataframe[\"label\"] == -1].copy()\n",
    "    X_train = (\n",
    "        pd.concat(\n",
    "            [positiveDF[:class_size], negativeDF[:class_size], neutralDF[:class_size]]\n",
    "        )\n",
    "        .reset_index(drop=True)\n",
    "        .copy()\n",
    "    )\n",
    "    Y_train = X_train[\"label\"].values.copy()\n",
    "    texts = X_train['text']\n",
    "    Input = []\n",
    "    for text in texts:\n",
    "        Input.append(process_line(text))\n",
    "    tv = TfidfVectorizer(use_idf=True, smooth_idf=True,stop_words=stpwrdlst)\n",
    "    tv_fit = tv.fit(Input).transform(Input)\n",
    "    tv_fit = tv_fit.todense()\n",
    "    dictionary = tv.vocabulary_\n",
    "    return (tv_fit, Y_train, dictionary)"
   ]
  },
  {
   "cell_type": "code",
   "execution_count": 13,
   "metadata": {},
   "outputs": [],
   "source": [
    "def performance_challenge(y_true, Y_pred, metric=\"accuracy\"):\n",
    "    if metric == \"accuracy\":\n",
    "        return metrics.accuracy_score(y_true, Y_pred)\n",
    "    elif metric == 'f1-score':\n",
    "        return metrics.f1_score(y_true, Y_pred,average='weighted')\n",
    "    elif metric == 'precision':\n",
    "        return metrics.precision_score(y_true, Y_pred, average='weighted')\n",
    "\n",
    "def cv_performance_challenge(clf, X, y, k=5, metric=\"accuracy\"):\n",
    "    \"\"\"Split data into k folds and run cross-validation.\n",
    "\n",
    "    Splits the data X and the labels y into k-folds and runs k-fold\n",
    "    cross-validation: for each fold i in 1...k, trains a classifier on\n",
    "    all the data except the ith fold, and tests on the ith fold.\n",
    "    Calculates and returns the k-fold cross-validation performance metric for\n",
    "    classifier clf by averaging the performance across folds.\n",
    "    Input:\n",
    "        clf: an instance of SVC()\n",
    "        X: (n,d) array of feature vectors, where n is the number of examples\n",
    "           and d is the number of features\n",
    "        y: (n,) array of binary labels {1,-1}\n",
    "        k: an int specifying the number of folds (default=5)\n",
    "        metric: string specifying the performance metric (default='accuracy'\n",
    "             other options: 'f1-score', 'auroc', 'precision', 'sensitivity',\n",
    "             and 'specificity')\n",
    "    Returns:\n",
    "        average 'test' performance across the k folds as np.float64\n",
    "    \"\"\"\n",
    "    # TODO: Implement this function\n",
    "    scores = []\n",
    "\n",
    "    # HINT: You may find the StratifiedKFold from sklearn.model_selection\n",
    "    # to be useful\n",
    "    skf = StratifiedKFold(k,False, None)\n",
    "    for train_index, test_index in skf.split(X, y):\n",
    "        X_train, X_test = X[train_index], X[test_index]\n",
    "        y_train, y_test = y[train_index], y[test_index]\n",
    "        clf.fit(X_train, y_train)\n",
    "        if(metric == 'auroc'):\n",
    "            y_pred = clf.decision_function(X_test)\n",
    "        else:\n",
    "            y_pred = clf.predict(X_test)\n",
    "        scores.append(performance_challenge(y_test, y_pred, metric))\n",
    "    return np.array(scores).mean()"
   ]
  },
  {
   "cell_type": "markdown",
   "metadata": {},
   "source": [
    "## Question 2 a)"
   ]
  },
  {
   "cell_type": "markdown",
   "metadata": {},
   "source": [
    "### i)   No. Because there is no private or sensitive information for any individuals.\n",
    "### ii)  It can be used as training datasset for feature exaction or like autoencoder. Generally for training models and finding emotional relevant words. After the training, the model can be applied for places that exist no clear labels like some forums or even the piazza to figure out the general satisfaction level.\n",
    "### iii) Yes. It cannot be used for doing some sensitive testing and drawing out any personal biographies of any individuals. Or even used to figure out individuals' interest and personal information.\n"
   ]
  },
  {
   "cell_type": "markdown",
   "metadata": {},
   "source": [
    "## Question 3 a)\n",
    "### It is : ['best', 'book', 'ever', 'it', 's', 'great']"
   ]
  },
  {
   "cell_type": "code",
   "execution_count": 4,
   "metadata": {},
   "outputs": [
    {
     "data": {
      "text/plain": [
       "['best', 'book', 'ever', 'it', 's', 'great']"
      ]
     },
     "execution_count": 4,
     "metadata": {},
     "output_type": "execute_result"
    }
   ],
   "source": [
    "extract_word('BEST book ever! It\\'s great')"
   ]
  },
  {
   "cell_type": "markdown",
   "metadata": {},
   "source": [
    "## 3 b)\n",
    "### d = 8620"
   ]
  },
  {
   "cell_type": "code",
   "execution_count": 18,
   "metadata": {},
   "outputs": [
    {
     "name": "stdout",
     "output_type": "stream",
     "text": [
      "d =  8620\n"
     ]
    }
   ],
   "source": [
    "df = pd.read_csv(\"data/dataset.csv\")\n",
    "_ = extract_dictionary(df)"
   ]
  },
  {
   "cell_type": "markdown",
   "metadata": {},
   "source": [
    "## 3 c)\n",
    "### The average number of non-zero features per comment in the training data is 12.290322580645162.\n",
    "### The word appearing in the most number of comments is 'i'."
   ]
  },
  {
   "cell_type": "code",
   "execution_count": 36,
   "metadata": {},
   "outputs": [
    {
     "name": "stdout",
     "output_type": "stream",
     "text": [
      "mean is  12.290322580645162\n",
      "Appear most word is  i\n",
      "mean is  11.036731634182908\n",
      "Appear most word is  i\n"
     ]
    }
   ],
   "source": [
    "   X_train, Y_train, X_test, Y_test, dictionary_binary = get_split_binary_data(\n",
    "        fname=\"data/dataset.csv\"\n",
    "    )"
   ]
  },
  {
   "cell_type": "markdown",
   "metadata": {},
   "source": [
    "## Question 4.1 a)\n",
    "### The proportion being roughly the same among folds is important because the ratio between positive and negative points will affect the final trained model, since during the training, model will encounter each input point. Imagine that there are a lot of positive points, then after the training, classifier will focus more on positive points, ensuring that all positive points are well-classified. This will result in a biased classifier. Back to the point. If the proportion is not equal, then, the unequal distribution in folds would cause a low score compared to equal ones, resulting in a less informative cv_performance result. This, at the same time, introduces many uncertainties, which is unwanted to our training process."
   ]
  },
  {
   "cell_type": "markdown",
   "metadata": {},
   "source": [
    "## 4.1 b)\n",
    "|Performance Measures |C |Performance|\n",
    "|---|---|---|\n",
    "|Accuracy\t|1\t|0.9291101882496786|\n",
    "|F1-Score\t|1\t|0.9278622978167773 |\n",
    "|AUROC\t|0.1\t|0.9743329518510748|\n",
    "|Precision\t|0.01\t|0.9942002989318051 |\n",
    "|Sensitivity\t|1.0\t|0.9122328292641717 |\n",
    "|Specificity\t|0.01\t|0.9954999859198559 |\n",
    "\n",
    "### Generally, scores first increase with the increase of C. And after some point (usually near 0.1), scores begins to decrease with the increase of C.\n",
    "### Since this problem involves the classification of both positive and negative attitude, a measure that consider both TP and FP would be great. Therefore, Sensitivity and Specificity would not be a good choice and I choose Accuracy to be my measure."
   ]
  },
  {
   "cell_type": "code",
   "execution_count": 23,
   "metadata": {},
   "outputs": [
    {
     "name": "stdout",
     "output_type": "stream",
     "text": [
      "for  accuracy  C is  1.0\n",
      "for  f1-score  C is  1.0\n",
      "for  auroc  C is  0.1\n",
      "for  precision  C is  0.01\n",
      "for  sensitivity  C is  1.0\n",
      "for  specificity  C is  0.01\n"
     ]
    }
   ],
   "source": [
    "C_range = np.logspace(-3, 3, num = 7, endpoint = True, base = 10)\n",
    "CList = []\n",
    "typeList = ['accuracy','f1-score', 'auroc', 'precision', 'sensitivity','specificity']\n",
    "for t in typeList:\n",
    "    c = select_param_linear(X_train, Y_train, k=5, metric=t, C_range=C_range, loss=\"hinge\", penalty=\"l2\", dual=True)\n",
    "    print(\"for \", t, \" C is \", c)\n",
    "    CList.append(c)"
   ]
  },
  {
   "cell_type": "code",
   "execution_count": 25,
   "metadata": {},
   "outputs": [
    {
     "name": "stdout",
     "output_type": "stream",
     "text": [
      "0.8495843610121495 for C =  0.001\n",
      "0.8852154787753582 for C =  0.01\n",
      "0.9291052694450885 for C =  0.1\n",
      "0.9291101882496786 for C =  1.0\n",
      "0.9178559633478789 for C =  10.0\n",
      "0.9178559633478789 for C =  100.0\n",
      "0.9178559633478789 for C =  1000.0\n",
      "for  accuracy  C is  1.0\n",
      "0.851807333978096 for C =  0.001\n",
      "0.8708862612205683 for C =  0.01\n",
      "0.9250230037988579 for C =  0.1\n",
      "0.9278622978167773 for C =  1.0\n",
      "0.9167378967281067 for C =  10.0\n",
      "0.9167378967281067 for C =  100.0\n",
      "0.9167378967281067 for C =  1000.0\n",
      "for  f1-score  C is  1.0\n",
      "0.9249447209320698 for C =  0.001\n",
      "0.9614462765506959 for C =  0.01\n",
      "0.9743329518510748 for C =  0.1\n",
      "0.9702486026116084 for C =  1.0\n",
      "0.9644699110482936 for C =  10.0\n",
      "0.9644699110482936 for C =  100.0\n",
      "0.9644699110482936 for C =  1000.0\n",
      "for  auroc  C is  0.1\n",
      "0.8394286504272565 for C =  0.001\n",
      "0.9942002989318051 for C =  0.01\n",
      "0.9807487422121159 for C =  0.1\n",
      "0.944164550392934 for C =  1.0\n",
      "0.929119136882717 for C =  10.0\n",
      "0.929119136882717 for C =  100.0\n",
      "0.929119136882717 for C =  1000.0\n",
      "for  precision  C is  0.01\n",
      "0.8649488890766242 for C =  0.001\n",
      "0.7749232632142153 for C =  0.01\n",
      "0.8754611247219172 for C =  0.1\n",
      "0.9122328292641717 for C =  1.0\n",
      "0.9047168483005266 for C =  10.0\n",
      "0.9047168483005266 for C =  100.0\n",
      "0.9047168483005266 for C =  1000.0\n",
      "for  sensitivity  C is  1.0\n",
      "0.8342203824167159 for C =  0.001\n",
      "0.9954999859198559 for C =  0.01\n",
      "0.982746191320999 for C =  0.1\n",
      "0.9459998310382698 for C =  1.0\n",
      "0.9309988454281772 for C =  10.0\n",
      "0.9309988454281772 for C =  100.0\n",
      "0.9309988454281772 for C =  1000.0\n",
      "for  specificity  C is  0.01\n"
     ]
    }
   ],
   "source": [
    "for t in typeList:\n",
    "    c = select_param_linear(X_train, Y_train, k=5, metric=t, C_range=C_range, loss=\"hinge\", penalty=\"l2\", dual=True)\n",
    "    print(\"for \", t, \" C is \", c)\n",
    "    CList.append(c)"
   ]
  },
  {
   "cell_type": "markdown",
   "metadata": {},
   "source": [
    "## 4.1 c)\n",
    "\n",
    "|Performance Measures |C |Performance|\n",
    "|---|---|---|\n",
    "|Accuracy\t|0.01\t|0.8808095952023988|\n",
    "|F1-Score\t|0.01\t|0.8649107901444351 |\n",
    "|AUROC\t|0.01\t|0.9649283304374799|\n",
    "|Precision\t|0.01\t|0.9980392156862745 |\n",
    "|Sensitivity\t|0.01\t|0.7631184407796102 |\n",
    "|Specificity\t|0.01\t|0.9985007496251874 |\n"
   ]
  },
  {
   "cell_type": "code",
   "execution_count": 27,
   "metadata": {},
   "outputs": [
    {
     "name": "stdout",
     "output_type": "stream",
     "text": [
      "accuracy  with c =  0.01  is  0.8808095952023988\n",
      "f1-score  with c =  0.01  is  0.8649107901444351\n",
      "auroc  with c =  0.01  is  0.9649283304374799\n",
      "precision  with c =  0.01  is  0.9980392156862745\n",
      "sensitivity  with c =  0.01  is  0.7631184407796102\n",
      "specificity  with c =  0.01  is  0.9985007496251874\n"
     ]
    }
   ],
   "source": [
    "for i in range(6):\n",
    "    linearClf = LinearSVC(penalty = \"l2\", loss = \"hinge\", dual = True, C = 0.01, random_state = 445)\n",
    "    linearClf.fit(X_train, Y_train)\n",
    "    if(typeList[i] == 'auroc'):\n",
    "        y_pred = linearClf.decision_function(X_test)\n",
    "    else:\n",
    "        y_pred = linearClf.predict(X_test)\n",
    "    print(typeList[i],\" with c = \", 0.01, \" is \", performance(Y_test, y_pred, typeList[i]))\n",
    "    "
   ]
  },
  {
   "attachments": {
    "image.png": {
     "image/png": "[encoded data removed]"
    }
   },
   "cell_type": "markdown",
   "metadata": {},
   "source": [
    "## 4.1 d)\n",
    "![image.png](attachment:image.png)"
   ]
  },
  {
   "cell_type": "code",
   "execution_count": 28,
   "metadata": {},
   "outputs": [
    {
     "data": {
      "image/png": "[encoded data removed]",
      "text/plain": [
       "<Figure size 432x288 with 1 Axes>"
      ]
     },
     "metadata": {
      "needs_background": "light"
     },
     "output_type": "display_data"
    }
   ],
   "source": [
    "plot_weight(X_train, Y_train, penalty = \"l2\", loss = \"hinge\", dual = True, C_range = C_range)"
   ]
  },
  {
   "attachments": {
    "image.png": {
     "image/png": "[encoded data removed]"
    }
   },
   "cell_type": "markdown",
   "metadata": {},
   "source": [
    "## 4.1 e)\n",
    "![image.png](attachment:image.png)"
   ]
  },
  {
   "cell_type": "code",
   "execution_count": 30,
   "metadata": {},
   "outputs": [
    {
     "name": "stdout",
     "output_type": "stream",
     "text": [
      "[ 460  712 2787 2703  146]\n",
      "['bad', 'sad', 'disappointing', 'sadly', 'no', 'congratulations', 'glad', 'welcome', 'thank', 'thanks']\n",
      "[-0.4472693013489566, -0.44238557393514183, -0.3078251115204207, -0.30205056917865986, -0.27487749998984723, 1.1443112576195258, 1.4090546695426365, 1.5324699544143188, 1.914958452861217, 2.05018178488577]\n"
     ]
    }
   ],
   "source": [
    "plot_word(X_train, Y_train, penalty = \"l2\", loss = \"hinge\", dual = True, C = 0.1, dictionary_binary = dictionary_binary)"
   ]
  },
  {
   "cell_type": "markdown",
   "metadata": {},
   "source": [
    "## 4.1 f)\n",
    "### This product’s really disappointing. It’s not the least welcome appliance in my house thanks to the loud noise. Great THANKS for you developers’ effort!"
   ]
  },
  {
   "cell_type": "markdown",
   "metadata": {},
   "source": [
    "## 4.2 a)\n",
    "### C = 1.0"
   ]
  },
  {
   "cell_type": "code",
   "execution_count": 38,
   "metadata": {},
   "outputs": [
    {
     "name": "stdout",
     "output_type": "stream",
     "text": [
      "0.5 for C =  0.001\n",
      "0.9080711657948051 for C =  0.01\n",
      "0.969317694142776 for C =  0.1\n",
      "0.9706368718159494 for C =  1.0\n"
     ]
    },
    {
     "data": {
      "text/plain": [
       "1.0"
      ]
     },
     "execution_count": 38,
     "metadata": {},
     "output_type": "execute_result"
    }
   ],
   "source": [
    "C_range = np.logspace(-3, 0, num = 4, endpoint = True, base = 10)\n",
    "select_param_linear(X_train, Y_train, k=5, metric='auroc', C_range=C_range, loss=\"squared_hinge\", penalty=\"l1\", dual=False)"
   ]
  },
  {
   "attachments": {
    "image.png": {
     "image/png": "[encoded data removed]"
    }
   },
   "cell_type": "markdown",
   "metadata": {},
   "source": [
    "## 4.2 b)\n",
    "![image.png](attachment:image.png)"
   ]
  },
  {
   "cell_type": "code",
   "execution_count": 40,
   "metadata": {},
   "outputs": [],
   "source": [
    "plot_weight(X_train, Y_train, penalty = \"l1\", loss = \"squared_hinge\", dual = False, C_range = C_range)"
   ]
  },
  {
   "cell_type": "markdown",
   "metadata": {},
   "source": [
    "## 4.2 c)"
   ]
  },
  {
   "cell_type": "code",
   "execution_count": null,
   "metadata": {},
   "outputs": [],
   "source": []
  },
  {
   "cell_type": "markdown",
   "metadata": {},
   "source": [
    "## 4.2 d)"
   ]
  },
  {
   "cell_type": "code",
   "execution_count": null,
   "metadata": {},
   "outputs": [],
   "source": []
  },
  {
   "cell_type": "markdown",
   "metadata": {},
   "source": [
    "## 4.3 a) i.\n",
    "### C = 10, r = 100, with score being 0.9742059985211103"
   ]
  },
  {
   "cell_type": "code",
   "execution_count": 41,
   "metadata": {},
   "outputs": [],
   "source": [
    "C_range = np.logspace(-3, 3, num = 7, endpoint = True, base = 10)\n",
    "R_range = np.logspace(-3, 3, num = 7, endpoint = True, base = 10)\n",
    "para = np.array([list(C_range), list(R_range)]).T\n",
    "temp = np.zeros((49,2))\n",
    "cnt = 0\n",
    "for c in para[:,0]:\n",
    "    for r in para[:,1]:\n",
    "        temp[cnt][0] = c;\n",
    "        temp[cnt][1] = r;\n",
    "        cnt += 1\n",
    "#print(temp)\n",
    "para = temp"
   ]
  },
  {
   "cell_type": "code",
   "execution_count": 24,
   "metadata": {},
   "outputs": [
    {
     "name": "stdout",
     "output_type": "stream",
     "text": [
      "0.9259356150338813 for C =  0.001 r =  0.001\n",
      "0.9251841361177636 for C =  0.001 r =  0.01\n",
      "0.9250095950645456 for C =  0.001 r =  0.1\n",
      "0.9250011364311128 for C =  0.001 r =  1.0\n",
      "0.9249757921715875 for C =  0.001 r =  10.0\n",
      "0.9249786082004237 for C =  0.001 r =  100.0\n",
      "0.9249504479120624 for C =  0.001 r =  1000.0\n",
      "0.9259356150338813 for C =  0.01 r =  0.001\n",
      "0.9251756880312552 for C =  0.01 r =  0.01\n",
      "0.9250095950645456 for C =  0.01 r =  0.1\n",
      "0.9249786082004237 for C =  0.01 r =  1.0\n",
      "0.9249786082004237 for C =  0.01 r =  10.0\n",
      "0.9249701601139153 for C =  0.01 r =  100.0\n",
      "0.941915872035009 for C =  0.01 r =  1000.0\n",
      "0.9259356150338813 for C =  0.1 r =  0.001\n",
      "0.9251756880312552 for C =  0.1 r =  0.01\n",
      "0.9249870668338565 for C =  0.1 r =  0.1\n",
      "0.9249757921715875 for C =  0.1 r =  1.0\n",
      "0.9249673440850792 for C =  0.1 r =  10.0\n",
      "0.9418624624094427 for C =  0.1 r =  100.0\n",
      "0.972892779860268 for C =  0.1 r =  1000.0\n",
      "0.9259356150338813 for C =  1.0 r =  0.001\n",
      "0.9251390796563854 for C =  1.0 r =  0.01\n",
      "0.9249898828626926 for C =  1.0 r =  0.1\n",
      "0.924964528056243 for C =  1.0 r =  1.0\n",
      "0.9418456189710482 for C =  1.0 r =  10.0\n",
      "0.9728050294485951 for C =  1.0 r =  100.0\n",
      "0.9730598642378787 for C =  1.0 r =  1000.0\n",
      "0.925925758932955 for C =  10.0 r =  0.001\n",
      "0.9251390796563854 for C =  10.0 r =  0.01\n",
      "0.9249786187473481 for C =  10.0 r =  0.1\n",
      "0.9418625045971408 for C =  10.0 r =  1.0\n",
      "0.9727782455338785 for C =  10.0 r =  10.0\n",
      "0.9742059985211103 for C =  10.0 r =  100.0\n",
      "0.9645809807099915 for C =  10.0 r =  1000.0\n",
      "0.9259299829762092 for C =  100.0 r =  0.001\n",
      "0.9251165514256963 for C =  100.0 r =  0.01\n",
      "0.9419328736772707 for C =  100.0 r =  0.1\n",
      "0.9727641548427733 for C =  100.0 r =  1.0\n",
      "0.9741974133245836 for C =  100.0 r =  10.0\n",
      "0.9649965928160468 for C =  100.0 r =  100.0\n",
      "0.9646319750898519 for C =  100.0 r =  1000.0\n",
      "0.9259327990050453 for C =  1000.0 r =  0.001\n",
      "0.9427209398744093 for C =  1000.0 r =  0.01\n",
      "0.972741774269027 for C =  1000.0 r =  0.1\n",
      "0.9741776167473348 for C =  1000.0 r =  1.0\n",
      "0.9648469319576769 for C =  1000.0 r =  10.0\n",
      "0.9649065853625352 for C =  1000.0 r =  100.0\n",
      "0.9646319750898519 for C =  1000.0 r =  1000.0\n"
     ]
    },
    {
     "data": {
      "text/plain": [
       "(10.0, 100.0)"
      ]
     },
     "execution_count": 24,
     "metadata": {},
     "output_type": "execute_result"
    }
   ],
   "source": [
    "select_param_quadratic(X_train, Y_train, k=5, metric=\"auroc\", param_range=para)"
   ]
  },
  {
   "cell_type": "markdown",
   "metadata": {},
   "source": [
    "## 4.3 a) ii.\n",
    "### C = 419.057575745141, r = 0.16291905055552514, with score being 0.9722581239531518"
   ]
  },
  {
   "cell_type": "code",
   "execution_count": 42,
   "metadata": {},
   "outputs": [],
   "source": [
    "for i in range(5):\n",
    "    np.random.uniform(-3,3,25)\n",
    "temp = np.random.uniform(-3,3,50)\n",
    "para_random = np.zeros((25,2))\n",
    "for i in range(25):\n",
    "    para_random[i-1][0] = 10**temp[i-1]  \n",
    "for i in range(25):\n",
    "    para_random[i-1][1] = 10**temp[i+24]\n"
   ]
  },
  {
   "cell_type": "code",
   "execution_count": 22,
   "metadata": {},
   "outputs": [
    {
     "name": "stdout",
     "output_type": "stream",
     "text": [
      "0.9250574148201375 for C =  0.020109883743837216 r =  0.0296148432002884\n",
      "0.9249955043734405 for C =  0.663246586139069 r =  0.0723301562433636\n",
      "0.9655492938464919 for C =  618.4922128497934 r =  9.958642001891393\n",
      "0.9249842508050203 for C =  22.201733328387114 r =  0.09084343729246856\n",
      "0.934367079589307 for C =  0.5632785213945183 r =  10.717438260578767\n",
      "0.92519957154174 for C =  9.56552048048139 r =  0.006167903794773369\n",
      "0.9250293389071722 for C =  22.324791632760522 r =  0.12816117839896787\n",
      "0.9249786187473481 for C =  4.701250796518085 r =  0.08311813518378552\n",
      "0.9722581239531518 for C =  419.057575745141 r =  0.16291905055552514\n",
      "0.9249617120274068 for C =  1.2669077202666377 r =  0.4282413181610396\n",
      "0.9720668554777088 for C =  4.373132872071924 r =  13.907923858473762\n",
      "0.9612679386046651 for C =  179.99756402722167 r =  304.26439192286784\n",
      "0.9363174485049048 for C =  721.498029431653 r =  0.009095843141724262\n",
      "0.9687305626773665 for C =  8.484546009080159 r =  4.40991771822331\n",
      "0.9256316210295971 for C =  0.04328633738067041 r =  0.0019897928740368453\n",
      "0.9249617120274068 for C =  1.0342988457461508 r =  0.7853144889032132\n",
      "0.9249926988915288 for C =  0.2533843268569011 r =  0.08949198699274968\n",
      "0.9249757921715875 for C =  0.3263449709907146 r =  0.5944305700229213\n",
      "0.924964528056243 for C =  0.017435451018398506 r =  85.39346684546481\n",
      "0.925772359189857 for C =  499.48551263987423 r =  0.0013565665561600347\n",
      "0.9251137037560868 for C =  53.05051824523062 r =  0.010614179521458305\n",
      "0.925240340678317 for C =  2.374136866051896 r =  0.004995087181187857\n",
      "0.9255218169988367 for C =  622.5057220142841 r =  0.0024492345058416383\n",
      "0.9250602203020492 for C =  0.0021696099440144207 r =  0.02143400464442854\n",
      "0.9249786082004237 for C =  0.04735874629573238 r =  2.2896513172046027\n"
     ]
    },
    {
     "data": {
      "text/plain": [
       "(419.057575745141, 0.16291905055552514)"
      ]
     },
     "execution_count": 22,
     "metadata": {},
     "output_type": "execute_result"
    }
   ],
   "source": [
    "select_param_quadratic(X_train, Y_train, k=5, metric=\"auroc\", param_range=para_random)"
   ]
  },
  {
   "cell_type": "markdown",
   "metadata": {},
   "source": [
    "## 4.3 b)\n",
    "|Scheme |C |r |AUROC|\n",
    "|:---|:---|:---|:---|\n",
    "|Grid\t|10.0\t|100.0 |0.9732135431534608|\n",
    "|Random\t|419.057575745141\t|0.16291905055552514 | 0.9737170395312089|\n",
    "\n",
    "### Generally, scores improves with the increase of C. And there exist some special ratio of c and r to achieve the highest score, like (c,r) = (10,100) or (1000, 0.1).\n",
    "\n",
    "### Grid search can give out a general picture of the score variation with the change of c and r. However, it usually takes much time to complete a thorough search.\n",
    "### Random search can touch many points that grid search cannot touch, and thus it has chance to get a more optimal result than grid search. However, it is full of uncertainty, and it would take a very long time to find a optimal region."
   ]
  },
  {
   "cell_type": "markdown",
   "metadata": {},
   "source": [
    "## 4.4 a)\n",
    "### It is: (x1^2, x2^2, ..., xn^2, x1x2, x1x3, ..., x1xn, x2x1, x2x3, ..., x2xn, ... ,xnx1, xnx2, ..., xnx(n-1), (2r)^0.5*x1, (2r)^0.5*x2, ..., (2r)^0.5*xn, r)\n",
    "\n",
    "## 4.4 b)\n",
    "### When using an explicit feature mapping over a kernel, we need to calculate each multiplication between the dot product in the dimension of n^2, causing a huge expense in calculation. Meanwhile, the pros are the linear model with this huge feature map having more freedom, since it does not have the implied rules with quadratic terms. It may find some inner relation terms other than quadratic relation."
   ]
  },
  {
   "cell_type": "markdown",
   "metadata": {},
   "source": [
    "## 5.1 a)\n",
    "### If Wn is way larger than Wp, then from the formular it can be seen that the penalty on negative classification. Therefore, the consequence is that all negative points will be classified more precisely than positive points.\n",
    "\n",
    "## 5.1 b)\n",
    "### This ratio between Wn and Wp is the same, indicating both of them view the difference between positive and negative in the same way. However, different value is equivalent to change C from 1 to 4 in section 4. Therefore, the difference between them is the latter one (1,4) has a larger C value, resulting a larger penalty being put on the loss function, causing the latter one being more precise or, equivalently, more “overfitting”.\n",
    "\n",
    "## 5.1 c)\n",
    "\n",
    "|Performance Measures |Performance|\n",
    "|:---|:---|\n",
    "|Accuracy\t|0.6476761619190404|\n",
    "|F1-Score\t|0.7371364653243848 |\n",
    "|AUROC\t|0.9568094513462908|\n",
    "|Precision\t|0.5878679750223015 |\n",
    "|Sensitivity\t|0.9880059970014993 |\n",
    "|Specificity\t|0.3073463268365817 |\n",
    "\n",
    "## 5.1 d)\n",
    "\n",
    "|Performance Measures |Performance in 4.1 c)|\n",
    "|:---|:---|\n",
    "|Accuracy\t|0.8808095952023988|\n",
    "|F1-Score\t|0.8649107901444351 |\n",
    "|AUROC\t|0.9649283304374799|\n",
    "|Precision\t|0.9980392156862745 |\n",
    "|Sensitivity\t|0.7631184407796102 |\n",
    "|Specificity\t|0.9985007496251874 |\n",
    "\n",
    "### We can see that all performance except sensitivity decrease compared with equal weights, especially the precision and specificity, while sensitivity actually improves.\n",
    "### This is like the same reason explained in 5.1 b). Because Wp becomes way larger than Wn, then the model focuses more on the correct classification of positive points, resulting a higher sensitivity and a lower specificity. Since originally the dataset is of equal distribution, then the total accuracy, F1-score, auroc will decrease due the uneven ratio of Wp and Wn. This decrease will be more obvious when considering precision. \n"
   ]
  },
  {
   "cell_type": "code",
   "execution_count": 38,
   "metadata": {},
   "outputs": [],
   "source": [
    "typeList = ['accuracy','f1-score', 'auroc', 'precision', 'sensitivity','specificity']\n"
   ]
  },
  {
   "cell_type": "code",
   "execution_count": 17,
   "metadata": {},
   "outputs": [
    {
     "name": "stdout",
     "output_type": "stream",
     "text": [
      "0.6476761619190404 for metric being  accuracy\n",
      "0.7371364653243848 for metric being  f1-score\n",
      "0.9568094513462908 for metric being  auroc\n",
      "0.5878679750223015 for metric being  precision\n",
      "0.9880059970014993 for metric being  sensitivity\n",
      "0.3073463268365817 for metric being  specificity\n"
     ]
    }
   ],
   "source": [
    "c = 0.01\n",
    "for metric in typeList:\n",
    "    linearClf = LinearSVC(penalty = \"l2\", loss = \"hinge\", dual = True, C = c, random_state = 445, class_weight = {-1: 1, 1: 10})\n",
    "    linearClf.fit(X_train, Y_train)\n",
    "    if metric == \"auroc\":\n",
    "        y_pred = linearClf.decision_function(X_test)\n",
    "        score = performance(Y_test, y_pred, metric)\n",
    "    else:\n",
    "        y_pred = linearClf.predict(X_test)\n",
    "        score = performance(Y_test, y_pred, metric)\n",
    "    print(score, \"for metric being \", metric)"
   ]
  },
  {
   "cell_type": "markdown",
   "metadata": {},
   "source": [
    "## 5.2 a)\n",
    "|Class Weights|Performance Measures |Performance|\n",
    "|:---|:---|:---|\n",
    "|Wn = 1, Wp = 1|Accuracy\t|0.8009592326139089|\n",
    "|Wn = 1, Wp = 1|F1-Score\t|0.8890374331550802 |\n",
    "|Wn = 1, Wp = 1|AUROC\t|0.9510454353661493|\n",
    "|Wn = 1, Wp = 1|Precision\t|0.8021712907117008 |\n",
    "|Wn = 1, Wp = 1|Sensitivity\t|0.9970014992503748 |\n",
    "|Wn = 1, Wp = 1|Specificity\t|0.017964071856287425 |\n",
    "\n",
    "## 5.2 b)\n",
    "### Specificity is affected most and AUROC is affected least.\n",
    "## 5.2 c)\n",
    "### F1 score is : 2 * (precision * recall) / (precision + recall)\n",
    "### Since the data is imbalanced with positive points being 4 times as negative points, then with equal weights training, during the training, model will encounter more positive points, resulting in positive-points-oriented consequence.\n",
    "### Therefore, Precision = TP / (TP + FP) will be decreased, because of there are more FP. While recall = TP / (TP + FN) being nearly 1. Thus, F1 will be (2 * precision)/(1+precision), namely a little bit higher than precision.\n",
    "### In this case, F1 score is high because positive points are over 80%. If they are like 60 or 70%, then the precision will be lower, and thus F1 score will be lower.\n"
   ]
  },
  {
   "cell_type": "code",
   "execution_count": 39,
   "metadata": {},
   "outputs": [
    {
     "name": "stdout",
     "output_type": "stream",
     "text": [
      "mean is  11.693277310924369\n",
      "Appear most word is  you\n",
      "mean is  10.906474820143885\n",
      "Appear most word is  you\n"
     ]
    }
   ],
   "source": [
    "IMB_features, IMB_labels, IMB_test_features, IMB_test_labels = get_imbalanced_data(\n",
    "    dictionary_binary, fname=\"data/dataset.csv\"\n",
    ")"
   ]
  },
  {
   "cell_type": "code",
   "execution_count": 20,
   "metadata": {},
   "outputs": [
    {
     "name": "stdout",
     "output_type": "stream",
     "text": [
      "0.8009592326139089 for metric being  accuracy\n",
      "0.8890374331550802 for metric being  f1-score\n",
      "0.9510454353661493 for metric being  auroc\n",
      "0.8021712907117008 for metric being  precision\n",
      "0.9970014992503748 for metric being  sensitivity\n",
      "0.017964071856287425 for metric being  specificity\n"
     ]
    }
   ],
   "source": [
    "c = 0.01\n",
    "for metric in typeList:\n",
    "    linearClf = LinearSVC(penalty = \"l2\", loss = \"hinge\", dual = True, C = c, random_state = 445, class_weight = {-1: 1, 1: 1})\n",
    "    linearClf.fit(IMB_features, IMB_labels)\n",
    "    if metric == \"auroc\":\n",
    "        y_pred = linearClf.decision_function(IMB_test_features)\n",
    "        score = performance(IMB_test_labels, y_pred, metric)\n",
    "    else:\n",
    "        y_pred = linearClf.predict(IMB_test_features)\n",
    "        score = performance(IMB_test_labels, y_pred, metric)\n",
    "    print(score, \"for metric being \", metric)"
   ]
  },
  {
   "cell_type": "markdown",
   "metadata": {},
   "source": [
    "## 5.3 a)\n",
    "### Considering choosing metrics: first accuracy, specificity, precision, and sensitivity should not be chosen because they all will be biased when encountering extremely imbalanced data (like much positive and less negative in 5.2).\n",
    "### F1-score would be a good choice since it takes both precision and recall in to consideration. This accounts for some edge cases in imbalanced dataset and thus is a relatively good metric to use.\n",
    "\n",
    "### Strategy:\n",
    "### With metric being f1-score, permutation for c from 0.001 to 1000 and weights being 10:1 to 1:10.\n",
    "\n",
    "### First, I run a loop with different c together with different weights. It reveals that c should be around 0.1 when weights is in the region of 1 to 10.\n",
    "\n",
    "### Analyzing these data, we can see the optimal region is around c = 0.01 with weights being nearly 10.\n",
    "### Thus, then I try c = 0.01 with weights chosen from  5-25.\n",
    "### It gives me the highest score with c = 0.01, weights being 1 : -1 =  13  :  15.\n"
   ]
  },
  {
   "cell_type": "code",
   "execution_count": 35,
   "metadata": {},
   "outputs": [
    {
     "name": "stdout",
     "output_type": "stream",
     "text": [
      "0.8889625915627544 for c being  0.01 and weights being 1 : -1 = 8 :  1\n",
      "0.890745322471678 for c being  0.01 and weights being 1 : -1 = 8 :  2\n",
      "0.9063767612862407 for c being  0.01 and weights being 1 : -1 = 8 :  3\n",
      "0.919650543077428 for c being  0.01 and weights being 1 : -1 = 8 :  4\n",
      "0.9298411996508837 for c being  0.01 and weights being 1 : -1 = 8 :  5\n",
      "0.9405977881330584 for c being  0.01 and weights being 1 : -1 = 8 :  6\n",
      "0.9470335815631316 for c being  0.01 and weights being 1 : -1 = 8 :  7\n",
      "0.9482679032707809 for c being  0.01 and weights being 1 : -1 = 8 :  8\n",
      "0.9478965220716082 for c being  0.01 and weights being 1 : -1 = 8 :  9\n",
      "0.9508901689053417 for c being  0.01 and weights being 1 : -1 = 8 :  10\n",
      "0.933717010056301 for c being  0.1 and weights being 1 : -1 = 8 :  1\n",
      "0.941215700068949 for c being  0.1 and weights being 1 : -1 = 8 :  2\n",
      "0.9455494361520801 for c being  0.1 and weights being 1 : -1 = 8 :  3\n",
      "0.9454912766748784 for c being  0.1 and weights being 1 : -1 = 8 :  4\n",
      "0.9453982338293553 for c being  0.1 and weights being 1 : -1 = 8 :  5\n",
      "0.9442155453115945 for c being  0.1 and weights being 1 : -1 = 8 :  6\n",
      "0.9445709536063427 for c being  0.1 and weights being 1 : -1 = 8 :  7\n",
      "0.9441603069827302 for c being  0.1 and weights being 1 : -1 = 8 :  8\n",
      "0.9448688359408287 for c being  0.1 and weights being 1 : -1 = 8 :  9\n",
      "0.9444728362960462 for c being  0.1 and weights being 1 : -1 = 8 :  10\n",
      "0.9452381644771334 for c being  1 and weights being 1 : -1 = 8 :  1\n",
      "0.9444524054340429 for c being  1 and weights being 1 : -1 = 8 :  2\n",
      "0.9451204606780849 for c being  1 and weights being 1 : -1 = 8 :  3\n",
      "0.9451454450812374 for c being  1 and weights being 1 : -1 = 8 :  4\n",
      "0.9455467536962864 for c being  1 and weights being 1 : -1 = 8 :  5\n",
      "0.9455467536962864 for c being  1 and weights being 1 : -1 = 8 :  6\n",
      "0.9455467536962864 for c being  1 and weights being 1 : -1 = 8 :  7\n",
      "0.9455467536962864 for c being  1 and weights being 1 : -1 = 8 :  8\n",
      "0.9455467536962864 for c being  1 and weights being 1 : -1 = 8 :  9\n",
      "0.9455467536962864 for c being  1 and weights being 1 : -1 = 8 :  10\n",
      "0.9508901689053417 for c being  0.01 and weights being 1 : -1 = 8 :  10\n"
     ]
    }
   ],
   "source": [
    "clist = [0.01,0.1,1]\n",
    "sBest = 0\n",
    "cBest = 0\n",
    "wBest = 0\n",
    "for c in clist:\n",
    "    for num in range(10):\n",
    "        linearClf = LinearSVC(penalty = \"l2\", loss = \"hinge\", dual = True, C = c, random_state = 445, class_weight = {-1: num+1, 1: 8})\n",
    "        linearClf.fit(IMB_features, IMB_labels)\n",
    "        score = cv_performance(linearClf, IMB_features, IMB_labels, 5, \"f1-score\")\n",
    "        if  score > sBest:\n",
    "            sBest = score\n",
    "            cBest = c\n",
    "            wBest = num+1\n",
    "        print(score, \"for c being \", c, \"and weights being 1 : -1 = 8 : \",num+1)\n",
    "print(sBest, \"for c being \", cBest, \"and weights being 1 : -1 = 8 : \",wBest)\n"
   ]
  },
  {
   "cell_type": "code",
   "execution_count": null,
   "metadata": {},
   "outputs": [],
   "source": [
    "for c in C_range:\n",
    "    linearClf = LinearSVC(penalty = penalty, loss = loss, dual = dual, C = c, random_state = 445)\n",
    "    score = cv_performance(linearClf, X, y, k, metric)\n",
    "    print(score, \"for C = \", c)\n",
    "    if  score > sBest:\n",
    "        sBest = score\n",
    "        cBest = c"
   ]
  },
  {
   "cell_type": "code",
   "execution_count": 46,
   "metadata": {},
   "outputs": [
    {
     "name": "stdout",
     "output_type": "stream",
     "text": [
      "0.9541890682950355 for c being 0.01 and weights being 1 : -1 =  13  :  15\n"
     ]
    }
   ],
   "source": [
    "c = 0.01\n",
    "sBest = 0\n",
    "oBest = 0\n",
    "wBest = 0\n",
    "for one in range(5):\n",
    "    for num in range(15):\n",
    "        linearClf = LinearSVC(penalty = \"l2\", loss = \"hinge\", dual = True, C = c, random_state = 445, class_weight = {-1: num+13, 1: one+13})\n",
    "        linearClf.fit(IMB_features, IMB_labels)\n",
    "        score = cv_performance(linearClf, IMB_features, IMB_labels, 5, \"f1-score\")\n",
    "        if  score > sBest:\n",
    "            sBest = score\n",
    "            oBest = one+13\n",
    "            wBest = num+13\n",
    "        #print(score, \"for c being \", c, \"and weights being 1 : -1 = \", one+13, \" : \",num+13)\n",
    "print(sBest, \"for c being 0.01 and weights being 1 : -1 = \", oBest,\" : \",wBest)"
   ]
  },
  {
   "cell_type": "code",
   "execution_count": 47,
   "metadata": {},
   "outputs": [
    {
     "name": "stdout",
     "output_type": "stream",
     "text": [
      "0.907673860911271 for metric being  accuracy\n",
      "0.9418867924528304 for metric being  f1-score\n",
      "0.9604000395012076 for metric being  auroc\n",
      "0.9483282674772037 for metric being  precision\n",
      "0.9355322338830585 for metric being  sensitivity\n",
      "0.7964071856287425 for metric being  specificity\n"
     ]
    }
   ],
   "source": [
    "c = 0.01\n",
    "for metric in typeList:\n",
    "    linearClf = LinearSVC(penalty = \"l2\", loss = \"hinge\", dual = True, C = c, random_state = 445, class_weight = {-1: 13, 1: 15})\n",
    "    linearClf.fit(IMB_features, IMB_labels)\n",
    "    if metric == \"auroc\":\n",
    "        y_pred = linearClf.decision_function(IMB_test_features)\n",
    "        score = performance(IMB_test_labels, y_pred, metric)\n",
    "    else:\n",
    "        y_pred = linearClf.predict(IMB_test_features)\n",
    "        score = performance(IMB_test_labels, y_pred, metric)\n",
    "    print(score, \"for metric being \", metric)"
   ]
  },
  {
   "cell_type": "markdown",
   "metadata": {},
   "source": [
    "5.4"
   ]
  },
  {
   "cell_type": "code",
   "execution_count": 61,
   "metadata": {},
   "outputs": [
    {
     "data": {
      "text/plain": [
       "<matplotlib.legend.Legend at 0x7f0f2be9ef10>"
      ]
     },
     "execution_count": 61,
     "metadata": {},
     "output_type": "execute_result"
    },
    {
     "data": {
      "image/png": "[encoded data removed]",
      "text/plain": [
       "<Figure size 432x288 with 1 Axes>"
      ]
     },
     "metadata": {
      "needs_background": "light"
     },
     "output_type": "display_data"
    }
   ],
   "source": [
    "linearClf = LinearSVC(penalty = \"l2\", loss = \"hinge\", dual = True, C = c, random_state = 445, class_weight = {-1: 1, 1: 1})\n",
    "linearClfSelf = LinearSVC(penalty = \"l2\", loss = \"hinge\", dual = True, C = c, random_state = 445, class_weight = {-1: 13, 1: 15})\n",
    "linearClf.fit(IMB_features, IMB_labels)\n",
    "linearClfSelf.fit(IMB_features, IMB_labels)\n",
    "predY = linearClf.decision_function(IMB_test_features)\n",
    "predYSelf = linearClf.decision_function(IMB_test_features)\n",
    "\n",
    "fpr, tpr, thresh = metrics.roc_curve(IMB_test_labels, predY)\n",
    "auc = metrics.roc_auc_score(IMB_test_labels, predY)\n",
    "plt.plot(fpr, tpr, label=\"data 1, auc=\" + str(auc))\n",
    "\n",
    "fpr, tpr, thresh = metrics.roc_curve(IMB_test_labels, predYSelf)\n",
    "auc = metrics.roc_auc_score(IMB_test_labels, predYSelf)\n",
    "plt.plot(fpr, tpr, label=\"data 2, auc=\" + str(auc))\n",
    "plt.legend(loc=0)"
   ]
  },
  {
   "cell_type": "code",
   "execution_count": 55,
   "metadata": {},
   "outputs": [
    {
     "data": {
      "image/png": "[encoded data removed]",
      "text/plain": [
       "<Figure size 432x288 with 1 Axes>"
      ]
     },
     "metadata": {
      "needs_background": "light"
     },
     "output_type": "display_data"
    },
    {
     "data": {
      "image/png": "[encoded data removed]",
      "text/plain": [
       "<Figure size 432x288 with 1 Axes>"
      ]
     },
     "metadata": {
      "needs_background": "light"
     },
     "output_type": "display_data"
    }
   ],
   "source": [
    "linearClf = LinearSVC(penalty = \"l2\", loss = \"hinge\", dual = True, C = c, random_state = 445, class_weight = {-1: 1, 1: 1})\n",
    "linearClfSelf = LinearSVC(penalty = \"l2\", loss = \"hinge\", dual = True, C = c, random_state = 445, class_weight = {-1: 13, 1: 15})\n",
    "linearClf.fit(IMB_features, IMB_labels)\n",
    "linearClfSelf.fit(IMB_features, IMB_labels)\n",
    "metrics.plot_roc_curve(linearClf, IMB_test_features, IMB_test_labels) \n",
    "metrics.plot_roc_curve(linearClfSelf, IMB_test_features, IMB_test_labels) \n",
    "\n",
    "plt.show()"
   ]
  },
  {
   "cell_type": "code",
   "execution_count": null,
   "metadata": {},
   "outputs": [],
   "source": []
  },
  {
   "cell_type": "markdown",
   "metadata": {},
   "source": [
    "6"
   ]
  },
  {
   "cell_type": "code",
   "execution_count": 69,
   "metadata": {},
   "outputs": [
    {
     "name": "stdout",
     "output_type": "stream",
     "text": [
      "[1 1 1 ... 0 0 0]\n"
     ]
    }
   ],
   "source": [
    "print(multiclass_labels)"
   ]
  },
  {
   "cell_type": "markdown",
   "metadata": {},
   "source": [
    "Feature Engineering"
   ]
  },
  {
   "cell_type": "code",
   "execution_count": 19,
   "metadata": {},
   "outputs": [
    {
     "name": "stderr",
     "output_type": "stream",
     "text": [
      "[nltk_data] Downloading package wordnet to /home/kelvinlj/nltk_data...\n",
      "[nltk_data]   Package wordnet is already up-to-date!\n"
     ]
    }
   ],
   "source": [
    "from sklearn.feature_extraction.text import TfidfVectorizer\n",
    "from sklearn.multiclass import OneVsOneClassifier\n",
    "import nltk\n",
    "nltk.download('wordnet')\n",
    "from nltk.stem import WordNetLemmatizer"
   ]
  },
  {
   "cell_type": "code",
   "execution_count": 39,
   "metadata": {},
   "outputs": [],
   "source": [
    "def process_line(input_string):\n",
    "    wnl = WordNetLemmatizer()\n",
    "    tempStr = input_string\n",
    "    for c in string.punctuation:\n",
    "        tempStr = tempStr.replace(c,' ')\n",
    "    tempStr = tempStr.lower().split()\n",
    "    for i in range(len(tempStr)): \n",
    "        tempStr[i] = wnl.lemmatize(tempStr[i])\n",
    "    return \" \".join(tempStr)\n",
    "\n",
    "\n",
    "def get_multiclass_training_data_challenge(class_size=750):\n",
    "    \"\"\"\n",
    "    Reads in the data from data/dataset.csv and returns it using\n",
    "    extract_dictionary and generate_feature_matrix as a tuple\n",
    "    (X_train, Y_train) where the labels are multiclass as follows\n",
    "        -1: poor\n",
    "         0: average\n",
    "         1: good\n",
    "    Also returns the dictionary used to create X_train.\n",
    "    Input:\n",
    "        class_size: Size of each class (pos/neg/neu) of training dataset.\n",
    "    \"\"\"\n",
    "    stpwrdlst = []\n",
    "    obj = open(\"stop.txt\")\n",
    "    for i in obj:\n",
    "        i = i.replace('\\n','')\n",
    "        stpwrdlst.append(i)\n",
    "    fname = \"data/dataset.csv\"\n",
    "    dataframe = load_data(fname)\n",
    "    neutralDF = dataframe[dataframe[\"label\"] == 0].copy()\n",
    "    positiveDF = dataframe[dataframe[\"label\"] == 1].copy()\n",
    "    negativeDF = dataframe[dataframe[\"label\"] == -1].copy()\n",
    "    X_train = (\n",
    "        pd.concat(\n",
    "            [positiveDF[:class_size], negativeDF[:class_size], neutralDF[:class_size]]\n",
    "        )\n",
    "        .reset_index(drop=True)\n",
    "        .copy()\n",
    "    )\n",
    "    Y_train = X_train[\"label\"].values.copy()\n",
    "    texts = X_train['text']\n",
    "    Input = []\n",
    "    for text in texts:\n",
    "        Input.append(process_line(text))\n",
    "    tv = TfidfVectorizer(use_idf=True, smooth_idf=True,stop_words=stpwrdlst)\n",
    "    tv_fit = tv.fit(Input).transform(Input)\n",
    "    tv_fit = tv_fit.todense()\n",
    "    dictionary = tv.vocabulary_\n",
    "    return (tv_fit, Y_train, dictionary)\n"
   ]
  },
  {
   "cell_type": "code",
   "execution_count": 48,
   "metadata": {},
   "outputs": [],
   "source": [
    "def get_multiclass_training_data_challenge(class_size=750):\n",
    "    \"\"\"\n",
    "    Reads in the data from data/dataset.csv and returns it using\n",
    "    extract_dictionary and generate_feature_matrix as a tuple\n",
    "    (X_train, Y_train) where the labels are multiclass as follows\n",
    "        -1: poor\n",
    "         0: average\n",
    "         1: good\n",
    "    Also returns the dictionary used to create X_train.\n",
    "    Input:\n",
    "        class_size: Size of each class (pos/neg/neu) of training dataset.\n",
    "    \"\"\"\n",
    "    stpwrdlst = []\n",
    "    obj = open(\"stop.txt\")\n",
    "    for i in obj:\n",
    "        i = i.replace('\\n','')\n",
    "        stpwrdlst.append(i)\n",
    "    fname = \"data/dataset.csv\"\n",
    "    dataframe = load_data(fname)\n",
    "    neutralDF = dataframe[dataframe[\"label\"] == 0].copy()\n",
    "    positiveDF = dataframe[dataframe[\"label\"] == 1].copy()\n",
    "    negativeDF = dataframe[dataframe[\"label\"] == -1].copy()\n",
    "    X_train = (\n",
    "        pd.concat(\n",
    "            [positiveDF[:class_size], negativeDF[:class_size], neutralDF[:class_size]]\n",
    "        )\n",
    "        .reset_index(drop=True)\n",
    "        .copy()\n",
    "    )\n",
    "    Y_train = X_train[\"label\"].values.copy()\n",
    "    texts = X_train['text']\n",
    "    Input = []\n",
    "    for text in texts:\n",
    "        Input.append(process_line(text))\n",
    "    tv = TfidfVectorizer(use_idf=True, smooth_idf=True,stop_words=stpwrdlst)\n",
    "    tv_fit = tv.fit(Input).transform(Input)\n",
    "    tv_fit = tv_fit.todense()\n",
    "    dictionary = tv.vocabulary_\n",
    "    return (tv_fit, Y_train, dictionary)"
   ]
  },
  {
   "cell_type": "code",
   "execution_count": 49,
   "metadata": {},
   "outputs": [
    {
     "name": "stdout",
     "output_type": "stream",
     "text": [
      "mean is  5.895333333333333\n",
      "Appear most word is  thanks\n"
     ]
    }
   ],
   "source": [
    "    (\n",
    "        multiclass_features,\n",
    "        multiclass_labels,\n",
    "        multiclass_dictionary,\n",
    "    ) = get_multiclass_training_data_challenge()\n",
    "    heldout_features = get_heldout_reviews(multiclass_dictionary)"
   ]
  },
  {
   "cell_type": "code",
   "execution_count": 50,
   "metadata": {},
   "outputs": [
    {
     "data": {
      "text/plain": [
       "(2250, 4537)"
      ]
     },
     "execution_count": 50,
     "metadata": {},
     "output_type": "execute_result"
    }
   ],
   "source": [
    "multiclass_features.shape"
   ]
  },
  {
   "cell_type": "code",
   "execution_count": null,
   "metadata": {},
   "outputs": [],
   "source": []
  },
  {
   "cell_type": "code",
   "execution_count": null,
   "metadata": {},
   "outputs": [],
   "source": []
  },
  {
   "cell_type": "code",
   "execution_count": null,
   "metadata": {},
   "outputs": [],
   "source": []
  },
  {
   "cell_type": "markdown",
   "metadata": {},
   "source": [
    "Run"
   ]
  },
  {
   "cell_type": "code",
   "execution_count": 51,
   "metadata": {},
   "outputs": [],
   "source": [
    "def performance_challenge(y_true, Y_pred, metric=\"accuracy\"):\n",
    "    if metric == \"accuracy\":\n",
    "        return metrics.accuracy_score(y_true, Y_pred)\n",
    "    elif metric == 'f1-score':\n",
    "        return metrics.f1_score(y_true, Y_pred,average='weighted')\n",
    "    elif metric == 'precision':\n",
    "        return metrics.precision_score(y_true, Y_pred, average='weighted')\n",
    "\n",
    "def cv_performance_challenge(clf, X, y, k=5, metric=\"accuracy\"):\n",
    "    \"\"\"Split data into k folds and run cross-validation.\n",
    "\n",
    "    Splits the data X and the labels y into k-folds and runs k-fold\n",
    "    cross-validation: for each fold i in 1...k, trains a classifier on\n",
    "    all the data except the ith fold, and tests on the ith fold.\n",
    "    Calculates and returns the k-fold cross-validation performance metric for\n",
    "    classifier clf by averaging the performance across folds.\n",
    "    Input:\n",
    "        clf: an instance of SVC()\n",
    "        X: (n,d) array of feature vectors, where n is the number of examples\n",
    "           and d is the number of features\n",
    "        y: (n,) array of binary labels {1,-1}\n",
    "        k: an int specifying the number of folds (default=5)\n",
    "        metric: string specifying the performance metric (default='accuracy'\n",
    "             other options: 'f1-score', 'auroc', 'precision', 'sensitivity',\n",
    "             and 'specificity')\n",
    "    Returns:\n",
    "        average 'test' performance across the k folds as np.float64\n",
    "    \"\"\"\n",
    "    # TODO: Implement this function\n",
    "    scores = []\n",
    "\n",
    "    # HINT: You may find the StratifiedKFold from sklearn.model_selection\n",
    "    # to be useful\n",
    "    skf = StratifiedKFold(k,False, None)\n",
    "    for train_index, test_index in skf.split(X, y):\n",
    "        X_train, X_test = X[train_index], X[test_index]\n",
    "        y_train, y_test = y[train_index], y[test_index]\n",
    "        clf.fit(X_train, y_train)\n",
    "        if(metric == 'auroc'):\n",
    "            y_pred = clf.decision_function(X_test)\n",
    "        else:\n",
    "            y_pred = clf.predict(X_test)\n",
    "        scores.append(performance_challenge(y_test, y_pred, metric))\n",
    "    return np.array(scores).mean()"
   ]
  },
  {
   "cell_type": "code",
   "execution_count": 52,
   "metadata": {},
   "outputs": [
    {
     "name": "stdout",
     "output_type": "stream",
     "text": [
      "0.6693333333333333 for c being  0.001  with types being  accuracy\n",
      "0.6693333333333333 for c being  0.01  with types being  accuracy\n",
      "0.592 for c being  0.1  with types being  accuracy\n",
      "0.7204444444444443 for c being  1  with types being  accuracy\n",
      "0.7057777777777778 for c being  10  with types being  accuracy\n",
      "0.7044444444444444 for c being  100  with types being  accuracy\n",
      "0.7066666666666667 for c being  1000  with types being  accuracy\n",
      "0.6522577205184215 for c being  0.001  with types being  f1-score\n",
      "0.6522577205184215 for c being  0.01  with types being  f1-score\n",
      "0.5692129890304687 for c being  0.1  with types being  f1-score\n",
      "0.724097770170694 for c being  1  with types being  f1-score\n",
      "0.7090415920212927 for c being  10  with types being  f1-score\n",
      "0.7072871798740112 for c being  100  with types being  f1-score\n",
      "0.7089742617204154 for c being  1000  with types being  f1-score\n",
      "0.66532104781779 for c being  0.001  with types being  precision\n",
      "0.66532104781779 for c being  0.01  with types being  precision\n",
      "0.7397666466063296 for c being  0.1  with types being  precision\n",
      "0.7368047488307724 for c being  1  with types being  precision\n",
      "0.7159542687643196 for c being  10  with types being  precision\n",
      "0.7170367442369081 for c being  100  with types being  precision\n",
      "0.7203825070784575 for c being  1000  with types being  precision\n"
     ]
    }
   ],
   "source": [
    "clist = [0.001,0.01,0.1,1,10,100,1000]\n",
    "typeList = ['accuracy','f1-score', 'precision']\n",
    "sBest = 0\n",
    "cBest = 0\n",
    "for t in typeList:\n",
    "    for c in clist:\n",
    "        linearClf = LinearSVC(penalty = \"l2\", loss = \"hinge\", dual = True, C = c, random_state = 445)\n",
    "        #linearClf.fit(x_train, Y_train)\n",
    "        clf = OneVsOneClassifier(linearClf)\n",
    "        score = cv_performance_challenge(clf, multiclass_features, multiclass_labels, 5, t)\n",
    "        if  score > sBest:\n",
    "            sBest = score\n",
    "            cBest = c\n",
    "        print(score, \"for c being \", c, \" with types being \", t)\n"
   ]
  },
  {
   "cell_type": "code",
   "execution_count": null,
   "metadata": {},
   "outputs": [],
   "source": []
  },
  {
   "cell_type": "code",
   "execution_count": null,
   "metadata": {},
   "outputs": [],
   "source": []
  }
 ],
 "metadata": {
  "kernelspec": {
   "display_name": "Python 3 (ipykernel)",
   "language": "python",
   "name": "python3"
  },
  "language_info": {
   "codemirror_mode": {
    "name": "ipython",
    "version": 3
   },
   "file_extension": ".py",
   "mimetype": "text/x-python",
   "name": "python",
   "nbconvert_exporter": "python",
   "pygments_lexer": "ipython3",
   "version": "3.9.7"
  }
 },
 "nbformat": 4,
 "nbformat_minor": 2
}
